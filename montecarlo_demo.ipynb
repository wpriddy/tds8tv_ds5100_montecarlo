{
 "cells": [
  {
   "cell_type": "markdown",
   "metadata": {},
   "source": [
    "# Final Project Report\n",
    "\n",
    "* Class: DS 5100\n",
    "* Student Name: Wyatt Priddy\n",
    "* Student Net ID: tds8tv\n",
    "* This URL: https://github.com/wpriddy/tds8tv_ds5100_montecarlo/blob/master/montecarlo_demo.ipynb"
   ]
  },
  {
   "cell_type": "markdown",
   "metadata": {},
   "source": [
    "# Instructions\n",
    "\n",
    "Follow the instructions in the [Final Project](https://ontoligent.github.io/DS5100-2023-07-R/notebooks/M00_FinalProject/FinalProjectInstructions.html) isntructions and put your work in this notebook.\n",
    "\n",
    "Total points for each subsection under **Deliverables** and **Scenarios** are given in parentheses.\n",
    "\n",
    "Breakdowns of points within subsections are specified within subsection instructions as bulleted lists.\n",
    "\n",
    "This project is worth **50 points**."
   ]
  },
  {
   "cell_type": "markdown",
   "metadata": {},
   "source": [
    "# Deliverables"
   ]
  },
  {
   "cell_type": "markdown",
   "metadata": {},
   "source": [
    "## The Monte Carlo Module (10)\n",
    "\n",
    "- URL included, appropriately named (1).\n",
    "- Includes all three specified classes (3).\n",
    "- Includes at least all 12 specified methods (6; .5 each)."
   ]
  },
  {
   "cell_type": "markdown",
   "metadata": {},
   "source": [
    "Put the URL to your GitHub repo here.\n",
    "\n",
    "Repo URL: https://github.com/wpriddy/tds8tv_ds5100_montecarlo"
   ]
  },
  {
   "cell_type": "markdown",
   "metadata": {},
   "source": [
    "Paste a copy of your module here.\n",
    "\n",
    "NOTE: Paste as text, not as code. Use triple backticks to wrap your code blocks."
   ]
  },
  {
   "cell_type": "raw",
   "metadata": {},
   "source": [
    "```\n",
    "import numpy as np\n",
    "import pandas as pd\n",
    "from collections import Counter\n",
    "\n",
    "class die:\n",
    "    \"\"\"Die Class\n",
    "    \n",
    "    Creates and allows modification of a Die with N faces and corresponding W weight\n",
    "    \n",
    "    \"\"\"\n",
    "    def __init__(self, faces: np.array):\n",
    "        \"\"\"Initializes Die Class with user prescribed faces and initial weights of 1.0:\n",
    "        \n",
    "        params: \n",
    "            faces: numpy array of strings or numeric types\"\"\"\n",
    "                \n",
    "        # Check that faces are numpy array\n",
    "        if not isinstance(faces, np.ndarray):\n",
    "            raise TypeError(f'Faces must be numpy array not {type(faces)}')\n",
    "                    \n",
    "        # Check that all sides are unique\n",
    "        if len(faces) != len(set(faces)):\n",
    "            # if not raise value error\n",
    "            raise ValueError(f'Face values must be distinct. {len(faces) - len(set(faces))} are duplicated')\n",
    "        \n",
    "        # Create private dataframe\n",
    "        self._parameters = pd.DataFrame({'face': faces})\n",
    "\n",
    "        # Assign weights = 1\n",
    "        self._parameters['weights'] = 1.0\n",
    "\n",
    "    def change_side_weight(self, face: (int, str), weight: int):\n",
    "        \"\"\"Takes two arguments: the face value to be changed and the new\n",
    "    weight.\n",
    "        \n",
    "        params:\n",
    "            face: string or int value of existing face on die\n",
    "            weight: new weight to be added die\"\"\"\n",
    "        \n",
    "        # Check that face exists before updating\n",
    "        if face not in self._parameters.face.unique():\n",
    "            raise IndexError(f'Invalid Face name \"{face}\"')\n",
    "        \n",
    "        # Check that weight is correct type before updating\n",
    "        try:\n",
    "            float(weight)\n",
    "        except ValueError:\n",
    "            raise TypeError(f'Invalid weight type {type(weight)}')\n",
    "        \n",
    "        # updates private dataframe with weight\n",
    "        self._parameters.loc[self._parameters.face == face, 'weights'] = weight\n",
    "        \n",
    "        return self\n",
    "    \n",
    "    def roll_the_dice(self, rolls: int = 1):\n",
    "        \"\"\"Takes a parameter of how many times the die is to be rolled;\n",
    "    defaults to 1. Returns a Python list of outcomes.\n",
    "        \n",
    "        params:\n",
    "            rolls: int indicating number of rolls\"\"\"\n",
    "        \n",
    "        # Make sure rolls is integer and greater than 0\n",
    "        if not isinstance(rolls, int) or rolls <= 0:\n",
    "            raise Exception('Rolls must be integer and greater than 0')\n",
    "        \n",
    "        # Instantiate empty list to store results\n",
    "        results = []\n",
    "        \n",
    "        # Roll die each time\n",
    "        for roll in range(rolls):\n",
    "            # Sample DataFrame for Dice Roll\n",
    "            results.append(self._parameters.sample(n=1, replace=True, weights='weights').squeeze())\n",
    "        \n",
    "        # return list\n",
    "        return results\n",
    "\n",
    "    def show_die(self):\n",
    "        \"\"\"Shows existing state of Dice\"\"\"\n",
    " \n",
    "        return self._parameters\n",
    "\n",
    "    def __str__(self):\n",
    "        \"\"\"Creates REPR to type check class\"\"\"\n",
    "        \n",
    "        return 'Die Class'\n",
    "\n",
    "class game:\n",
    "    \"\"\"Game Class\n",
    "    \n",
    "    Creates Game and Allows for Play by rolling dice and storing results of game play\n",
    "    \"\"\"\n",
    "    def __init__(self, list_of_die: list):\n",
    "        \"\"\"Initializes Game Object from list of die\n",
    "        \n",
    "        params: \n",
    "            list_of_die: list containing one or more die object\"\"\"\n",
    "        \n",
    "        #Make sure all objects in list are Die Class\n",
    "        if not all(i.__str__() == 'Die Class' for i in list_of_die):\n",
    "            raise TypeError('Not all objects in list are die class')\n",
    "        \n",
    "        # Save to self\n",
    "        self.list_of_die = list_of_die\n",
    "        \n",
    "    def play(self, number_of_die_rolls: int):\n",
    "        \"\"\"Takes an integer parameter to specify how many times the dice should\n",
    "    be rolled. Saves the result of the play to a private data frame\n",
    "           \n",
    "        params: \n",
    "            number_of_die_rolls: int \n",
    "        \n",
    "        \"\"\"\n",
    "        # Make sure rolls numbers are int\n",
    "        if not isinstance(number_of_die_rolls, int): \n",
    "            raise TypeError(f'number_of_die_rolls must be int not {type(number_of_die_rolls)}')\n",
    "        \n",
    "        # save to self\n",
    "        self.die_rolls = number_of_die_rolls\n",
    "        \n",
    "        # instantiate empty play dict\n",
    "        self.play_dict = {}\n",
    "        \n",
    "        # roll the dice\n",
    "        for enum, die in enumerate(self.list_of_die, start=1):\n",
    "            # roll of each dice\n",
    "            outcomes = {enum: [roll['face'] for roll in die.roll_the_dice(rolls = self.die_rolls)]}\n",
    "            \n",
    "            # Update Dictionary with outcomes\n",
    "            self.play_dict = {**outcomes, **self.play_dict}\n",
    "        \n",
    "        # Create DataFrame from Dictionary of Outcomes\n",
    "        self.game_results = pd.DataFrame(self.play_dict)\n",
    "        # Sort by Die Num Ascending\n",
    "        self.game_results = self.game_results[sorted(self.game_results.columns)]\n",
    "        \n",
    "        return self\n",
    "        \n",
    "    def most_recent_play(self, shape: str = 'wide'):\n",
    "        \"\"\"Shows the results of the most recent play in either wide or narrow dataframe format. Default = Wide\n",
    "        \n",
    "        params:\n",
    "            shape: 'wide' or 'narrow'\n",
    "        \n",
    "        \"\"\"\n",
    "        # Raise Exception if incorrect parameters\n",
    "        if shape.lower() not in (arg_constraints := ['narrow', 'wide']):\n",
    "            raise ValueError(f'Shape not in {arg_constraints}')\n",
    "        \n",
    "        # If wide\n",
    "        if shape == 'wide':\n",
    "            # Return original game results\n",
    "            return self.game_results\n",
    "        \n",
    "        # Otherwise it has to be narrow\n",
    "        else:\n",
    "            # Stack Results\n",
    "            self.game_results_narrow = pd.DataFrame.from_dict(self.play_dict, orient=\"index\").stack().to_frame(name='results')\n",
    "            # Sort Index Accordingly\n",
    "            self.game_results_narrow = self.game_results_narrow.swaplevel(axis=0).sort_index()\n",
    "            # Return manipulated frame\n",
    "            return self.game_results_narrow\n",
    "        \n",
    "    def __str__(self):\n",
    "        \"\"\"Creates REPR to type check class\"\"\"\n",
    "        \n",
    "        return 'Game Class'\n",
    "        \n",
    "class analyzer:\n",
    "    \"\"\"Analyzer Class\n",
    "        Stores results of game play and calculates summary statistics\n",
    "    \"\"\"   \n",
    "    def __init__(self, game):\n",
    "        \"\"\"Initializes Analyzer Object For Specific Game\"\"\"\n",
    "        \n",
    "        # check params is game class\n",
    "        if game.__str__() != 'Game Class':\n",
    "            \n",
    "            raise ValueError(f'game should be \"Game Class\" not \"{type(game)}\"')\n",
    "        \n",
    "        # save to self\n",
    "        self.game = game\n",
    "        \n",
    "    \n",
    "    def jackpot(self):\n",
    "        \"\"\"Analyzes results to see number of times 'jackpot', or all faces being the same for rolled dices,\n",
    "        happens within a specific game\n",
    "        \"\"\"\n",
    "        # Set initially to 0\n",
    "        self.num_jackpots = 0\n",
    "        \n",
    "        # Iterate through each play to see if jackpot happened\n",
    "        for index in self.game.game_results.index:\n",
    "            if len(set(self.game.game_results.iloc[index].values)) == 1:\n",
    "                self.num_jackpots += 1\n",
    "        \n",
    "        return self.num_jackpots\n",
    "    \n",
    "    def face_counts_per_roll(self):\n",
    "        \"\"\"Computes how many times a given face is rolled in each event.\n",
    "\n",
    "          For example, if a roll of five dice has all sixes, then the\n",
    "        counts for this roll would be 5 for the face value ‘6’ and 0\n",
    "        for the other faces.\n",
    "\n",
    "         Returns a data frame of results.\"\"\"\n",
    "        # initializes face counts list\n",
    "        face_counts = []\n",
    "        # Iterates throught game results\n",
    "        for index in self.game.game_results.index:\n",
    "            face_counts.append(dict(self.game.game_results.iloc[index].value_counts()))\n",
    "            \n",
    "        # Creates dataframe of results\n",
    "        self.face_counts = pd.DataFrame(face_counts).fillna(0)\n",
    "    \n",
    "        return self.face_counts\n",
    "        \n",
    "\n",
    "    def combo_counts(self):\n",
    "        \"\"\"Computes the distinct combinations of faces rolled, along with their\n",
    "    counts.\n",
    "    \n",
    "        Returns a data frame of results.\n",
    "        \"\"\"\n",
    "        # Get list to store unique combo counts\n",
    "        values = []\n",
    "        # Iterate through game results\n",
    "        for index in self.game.game_results.index:\n",
    "            values.append(tuple(set(self.game.game_results.iloc[index])))\n",
    "        \n",
    "        # Get count of values\n",
    "        counter_results = Counter(values)\n",
    "        # Create DataFrame from Values\n",
    "        df = pd.DataFrame.from_dict(counter_results, orient='index').reset_index()\n",
    "        # Rename column\n",
    "        df = df.rename(columns={0:'count'})\n",
    "        # Manual updating of dataframe\n",
    "        df['index'] = df['index'].astype(str)\n",
    "        df['index'] = df['index'].str.replace('(', '')\n",
    "        df['index'] = df['index'].str.replace(')', '')\n",
    "        # Exand index for multi-index\n",
    "        df[[*range(df['index'][0].count(',')+1)]] = df['index'].str.split(',', expand=True)\n",
    "        # Set Multi-Index\n",
    "        df = df.set_index([i for i in df.columns if type(i) == int])\n",
    "        # Drop original transforming columns\n",
    "        df.drop(columns=['index'], inplace=True)\n",
    "        self.combo_results = df\n",
    "        return self.combo_results\n",
    "    \n",
    "    def permutation_counts(self):\n",
    "        \"\"\"Computes the distinct permutations of faces rolled, along with their\n",
    "    counts.\n",
    "    \n",
    "        Returns a data frame of results.\n",
    "        \"\"\"\n",
    "        \n",
    "        # Create counter column\n",
    "        self.game.game_results['count'] = 1\n",
    "        # Group By Combos\n",
    "        self.permutation_results = self.game.game_results.groupby(by=[i for i in self.game.game_results.columns if 'count' != i]).agg({'count': 'sum'})   \n",
    "        \n",
    "        return self.permutation_results\n",
    "```"
   ]
  },
  {
   "cell_type": "markdown",
   "metadata": {},
   "source": [
    "## Unitest Module (2)\n",
    "\n",
    "Paste a copy of your test module below.\n",
    "\n",
    "NOTE: Paste as text, not as code. Use triple backticks to wrap your code blocks.\n",
    "\n",
    "- All methods have at least one test method (1).\n",
    "- Each method employs one of Unittest's Assert methods (1)."
   ]
  },
  {
   "cell_type": "raw",
   "metadata": {},
   "source": [
    "```\n",
    "from montecarlo import die, game, analyzer\n",
    "import unittest\n",
    "import numpy as np\n",
    "import pandas as pd\n",
    "\n",
    "# Initialize a Die\n",
    "test_die = die(np.array(['heads', 'tails']))\n",
    "\n",
    "# Initialize a Game\n",
    "test_game = game([test_die, test_die])\n",
    "\n",
    "# Initialize the Analyzer\n",
    "test_analyzer = analyzer(test_game.play(10))\n",
    "\n",
    "class montecarlo_test_suite(unittest.TestCase):\n",
    "    \n",
    "    def test_die_initializer(self):\n",
    "        # Test that initializing die class creates private pd.DataFrame\n",
    "        self.assertEqual(type(test_die._parameters), pd.DataFrame)\n",
    "\n",
    "    def test_die_change_side_weight(self):\n",
    "        # Test that changing the side weight updates correctly\n",
    "        test_die.change_side_weight('heads', 33)\n",
    "        \n",
    "        self.assertTrue(test_die._parameters[test_die._parameters.face == 'heads']['weights'][0] == 33, 'Face weight did not update')\n",
    "        \n",
    "    def test_die_roll_output(self):\n",
    "        # Test die roll outputs list\n",
    "        self.assertEqual(type(test_die.roll_the_dice(3)), list, \"Dice Roll did not return list\")\n",
    "    \n",
    "    def test_die_show_the_dice(self):\n",
    "        #Test that show the dice returns pd.DataFrame\n",
    "        self.assertEqual(type(test_die.show_die()), pd.DataFrame, 'Show Dice did not return pandas DataFrame')\n",
    "    \n",
    "    def test_game_initializer(self):\n",
    "        # Test that initializer stores list of die\n",
    "        self.assertEqual(test_game.list_of_die, [test_die, test_die], 'Game initializer did not store die')\n",
    "    \n",
    "    def test_game_play(self):\n",
    "        # test game play saves results to pd.DataFrame\n",
    "        test_game.play(3)\n",
    "        self.assertIsInstance(test_game.game_results, pd.DataFrame, 'Game results are not pandas DataFrame')\n",
    "    \n",
    "    def test_game_results_narrow(self):\n",
    "        # Test that narrow dataframe return only 1 column\n",
    "        self.assertTrue(len(test_game.most_recent_play(shape='narrow').columns) == 1, 'Narrow function returned more than one column')\n",
    "    \n",
    "    def test_analyzer_initializer(self):\n",
    "        # Test that the analyzer won't initialize without a game object\n",
    "        self.assertRaises(ValueError, analyzer, \"won't work\")\n",
    "        \n",
    "    def test_analyzer_jackpot(self):\n",
    "        # Test that jackpot returns an int\n",
    "        self.assertIsInstance(test_analyzer.jackpot(), int, 'Jackpot is not integer')\n",
    "\n",
    "    def test_analyzer_face_counts_per_roll(self):\n",
    "        #Test that Face Counts returns pd.DataFrame\n",
    "        self.assertIsInstance(test_analyzer.face_counts_per_roll(), pd.DataFrame, 'Face counts is not pd.DataFrame')\n",
    "    \n",
    "    def test_analyzer_combo_counts(self):\n",
    "        #Test that Combo Counts returns pd.DataFrame with multi-index\n",
    "        self.assertIsInstance(test_analyzer.combo_counts().index, pd.core.indexes.multi.MultiIndex, 'Combo Counts is not multi-index pd.DataFrame')     \n",
    "    \n",
    "    def test_analyzer_permutation_counts(self):\n",
    "        #Test that Permutation Counts returns pd.DataFrame with multi-index\n",
    "        self.assertIsInstance(test_analyzer.permutation_counts().index, pd.core.indexes.multi.MultiIndex, 'Combo Counts is not multi-index pd.DataFrame')     \n",
    "        \n",
    "if __name__ == '__main__':\n",
    "    unittest.main(verbosity=3)\n",
    "```"
   ]
  },
  {
   "cell_type": "markdown",
   "metadata": {
    "tags": []
   },
   "source": [
    "## Unittest Results (3)\n",
    "\n",
    "Put a copy of the results of running your tests from the command line here.\n",
    "\n",
    "Again, paste as text using triple backticks.\n",
    "\n",
    "- All 12 specified methods return OK (3; .25 each)."
   ]
  },
  {
   "cell_type": "raw",
   "metadata": {
    "tags": []
   },
   "source": [
    "test_analyzer_combo_counts (__main__.montecarlo_test_suite) ... ok\n",
    "test_analyzer_face_counts_per_roll (__main__.montecarlo_test_suite) ... ok\n",
    "test_analyzer_initializer (__main__.montecarlo_test_suite) ... ok\n",
    "test_analyzer_jackpot (__main__.montecarlo_test_suite) ... ok\n",
    "test_analyzer_permutation_counts (__main__.montecarlo_test_suite) ... ok\n",
    "test_die_change_side_weight (__main__.montecarlo_test_suite) ... ok\n",
    "test_die_initializer (__main__.montecarlo_test_suite) ... ok\n",
    "test_die_roll_output (__main__.montecarlo_test_suite) ... ok\n",
    "test_die_show_the_dice (__main__.montecarlo_test_suite) ... ok\n",
    "test_game_initializer (__main__.montecarlo_test_suite) ... ok\n",
    "test_game_play (__main__.montecarlo_test_suite) ... ok\n",
    "test_game_results_narrow (__main__.montecarlo_test_suite) ... ok\n",
    "\n",
    "----------------------------------------------------------------------\n",
    "Ran 12 tests in 0.028s\n",
    "\n",
    "OK"
   ]
  },
  {
   "cell_type": "markdown",
   "metadata": {},
   "source": [
    "## Import (1)\n",
    "\n",
    "Import your module here. This import should refer to the code in your package directory.\n",
    "\n",
    "- Module successuflly imported (1)."
   ]
  },
  {
   "cell_type": "code",
   "execution_count": 1,
   "metadata": {
    "tags": []
   },
   "outputs": [],
   "source": [
    "# import custom module\n",
    "from montecarlo import montecarlo\n",
    "# Also import pandas for later visualizations\n",
    "import pandas as pd"
   ]
  },
  {
   "cell_type": "markdown",
   "metadata": {},
   "source": [
    "## Help Docs (4)\n",
    "\n",
    "Show your docstring documentation by applying `help()` to your imported module.\n",
    "\n",
    "- All methods have a docstring (3; .25 each).\n",
    "- All classes have a docstring (1; .33 each)."
   ]
  },
  {
   "cell_type": "code",
   "execution_count": 2,
   "metadata": {
    "tags": []
   },
   "outputs": [
    {
     "name": "stdout",
     "output_type": "stream",
     "text": [
      "Help on module montecarlo.montecarlo in montecarlo:\n",
      "\n",
      "NAME\n",
      "    montecarlo.montecarlo\n",
      "\n",
      "CLASSES\n",
      "    builtins.object\n",
      "        analyzer\n",
      "        die\n",
      "        game\n",
      "    \n",
      "    class analyzer(builtins.object)\n",
      "     |  analyzer(game)\n",
      "     |  \n",
      "     |  Analyzer Class\n",
      "     |  Stores results of game play and calculates summary statistics\n",
      "     |  \n",
      "     |  Methods defined here:\n",
      "     |  \n",
      "     |  __init__(self, game)\n",
      "     |      Initializes Analyzer Object For Specific Game\n",
      "     |  \n",
      "     |  combo_counts(self)\n",
      "     |      Computes the distinct combinations of faces rolled, along with their\n",
      "     |      counts.\n",
      "     |      \n",
      "     |          Returns a data frame of results.\n",
      "     |  \n",
      "     |  face_counts_per_roll(self)\n",
      "     |      Computes how many times a given face is rolled in each event.\n",
      "     |      \n",
      "     |        For example, if a roll of five dice has all sixes, then the\n",
      "     |      counts for this roll would be 5 for the face value ‘6’ and 0\n",
      "     |      for the other faces.\n",
      "     |      \n",
      "     |       Returns a data frame of results.\n",
      "     |  \n",
      "     |  jackpot(self)\n",
      "     |      Analyzes results to see number of times 'jackpot', or all faces being the same for rolled dices,\n",
      "     |      happens within a specific game\n",
      "     |  \n",
      "     |  permutation_counts(self)\n",
      "     |      Computes the distinct permutations of faces rolled, along with their\n",
      "     |      counts.\n",
      "     |      \n",
      "     |          Returns a data frame of results.\n",
      "     |  \n",
      "     |  ----------------------------------------------------------------------\n",
      "     |  Data descriptors defined here:\n",
      "     |  \n",
      "     |  __dict__\n",
      "     |      dictionary for instance variables (if defined)\n",
      "     |  \n",
      "     |  __weakref__\n",
      "     |      list of weak references to the object (if defined)\n",
      "    \n",
      "    class die(builtins.object)\n",
      "     |  die(faces: <built-in function array>)\n",
      "     |  \n",
      "     |  Die Class\n",
      "     |  \n",
      "     |  Creates and allows modification of a Die with N faces and corresponding W weight\n",
      "     |  \n",
      "     |  Methods defined here:\n",
      "     |  \n",
      "     |  __init__(self, faces: <built-in function array>)\n",
      "     |      Initializes Die Class with user prescribed faces and initial weights of 1.0:\n",
      "     |      \n",
      "     |      params: \n",
      "     |          faces: numpy array of strings or numeric types\n",
      "     |  \n",
      "     |  __str__(self)\n",
      "     |      Creates REPR to type check class\n",
      "     |  \n",
      "     |  change_side_weight(self, face: (<class 'int'>, <class 'str'>), weight: int)\n",
      "     |      Takes two arguments: the face value to be changed and the new\n",
      "     |      weight.\n",
      "     |          \n",
      "     |          params:\n",
      "     |              face: string or int value of existing face on die\n",
      "     |              weight: new weight to be added die\n",
      "     |  \n",
      "     |  roll_the_dice(self, rolls: int = 1)\n",
      "     |      Takes a parameter of how many times the die is to be rolled;\n",
      "     |      defaults to 1. Returns a Python list of outcomes.\n",
      "     |          \n",
      "     |          params:\n",
      "     |              rolls: int indicating number of rolls\n",
      "     |  \n",
      "     |  show_die(self)\n",
      "     |      Shows existing state of Dice\n",
      "     |  \n",
      "     |  ----------------------------------------------------------------------\n",
      "     |  Data descriptors defined here:\n",
      "     |  \n",
      "     |  __dict__\n",
      "     |      dictionary for instance variables (if defined)\n",
      "     |  \n",
      "     |  __weakref__\n",
      "     |      list of weak references to the object (if defined)\n",
      "    \n",
      "    class game(builtins.object)\n",
      "     |  game(list_of_die: list)\n",
      "     |  \n",
      "     |  Game Class\n",
      "     |  \n",
      "     |  Creates Game and Allows for Play by rolling dice and storing results of game play\n",
      "     |  \n",
      "     |  Methods defined here:\n",
      "     |  \n",
      "     |  __init__(self, list_of_die: list)\n",
      "     |      Initializes Game Object from list of die\n",
      "     |      \n",
      "     |      params: \n",
      "     |          list_of_die: list containing one or more die object\n",
      "     |  \n",
      "     |  __str__(self)\n",
      "     |      Creates REPR to type check class\n",
      "     |  \n",
      "     |  most_recent_play(self, shape: str = 'wide')\n",
      "     |      Shows the results of the most recent play in either wide or narrow dataframe format. Default = Wide\n",
      "     |      \n",
      "     |      params:\n",
      "     |          shape: 'wide' or 'narrow'\n",
      "     |  \n",
      "     |  play(self, number_of_die_rolls: int)\n",
      "     |      Takes an integer parameter to specify how many times the dice should\n",
      "     |      be rolled. Saves the result of the play to a private data frame\n",
      "     |             \n",
      "     |          params: \n",
      "     |              number_of_die_rolls: int\n",
      "     |  \n",
      "     |  ----------------------------------------------------------------------\n",
      "     |  Data descriptors defined here:\n",
      "     |  \n",
      "     |  __dict__\n",
      "     |      dictionary for instance variables (if defined)\n",
      "     |  \n",
      "     |  __weakref__\n",
      "     |      list of weak references to the object (if defined)\n",
      "\n",
      "FILE\n",
      "    /sfs/qumulo/qhome/tds8tv/Documents/MSDS/DS5100/final/montecarlo/montecarlo.py\n",
      "\n",
      "\n"
     ]
    }
   ],
   "source": [
    "help(montecarlo)"
   ]
  },
  {
   "cell_type": "markdown",
   "metadata": {},
   "source": [
    "## `README.md` File (3)\n",
    "\n",
    "Provide link to the README.md file of your project's repo.\n",
    "\n",
    "- Metadata section or info present (1).\n",
    "- Synopsis section showing how each class is called (1). (All must be included.)\n",
    "- API section listing all classes and methods (1). (All must be included.)"
   ]
  },
  {
   "cell_type": "markdown",
   "metadata": {},
   "source": [
    "URL: https://github.com/wpriddy/tds8tv_ds5100_montecarlo/blob/master/README.md"
   ]
  },
  {
   "cell_type": "markdown",
   "metadata": {},
   "source": [
    "## Successful installation (2)\n",
    "\n",
    "Put a screenshot or paste a copy of a terminal session where you successfully install your module with pip.\n",
    "\n",
    "If pasting text, use a preformatted text block to show the results.\n",
    "\n",
    "- Installed with `pip` (1).\n",
    "- Successfully installed message appears (1)."
   ]
  },
  {
   "attachments": {
    "image.png": {
     "image/png": "[encoded data removed]"
    }
   },
   "cell_type": "markdown",
   "metadata": {},
   "source": [
    "![image.png](attachment:image.png)"
   ]
  },
  {
   "cell_type": "markdown",
   "metadata": {},
   "source": [
    "# Scenarios\n",
    "\n",
    "Use code blocks to perform the tasks for each scenario.\n",
    "\n",
    "Be sure the outputs are visible before submitting."
   ]
  },
  {
   "cell_type": "markdown",
   "metadata": {
    "tags": []
   },
   "source": [
    "## Scenario 1: A 2-headed Coin (9)\n",
    "\n",
    "Task 1. Create a fair coin (with faces $H$ and $T$) and one unfair coin in which one of the faces has a weight of $5$ and the others $1$.\n",
    "\n",
    "- Fair coin created (1).\n",
    "- Unfair coin created with weight as specified (1)."
   ]
  },
  {
   "cell_type": "code",
   "execution_count": 3,
   "metadata": {},
   "outputs": [],
   "source": [
    "import numpy as np\n",
    "\n",
    "# Create Fair Coin\n",
    "fair_coin = montecarlo.die(np.array(['H', 'T']))\n",
    "# Create Unfair Coin\n",
    "unfair_coin = montecarlo.die(np.array(['H', 'T']))\n",
    "# Change Weight of Unfair Coin\n",
    "unfair_coin.change_side_weight(face='H', weight=5);"
   ]
  },
  {
   "cell_type": "markdown",
   "metadata": {},
   "source": [
    "Task 2. Play a game of $1000$ flips with two fair dice.\n",
    "\n",
    "- Play method called correctly and without error (1)."
   ]
  },
  {
   "cell_type": "code",
   "execution_count": 4,
   "metadata": {},
   "outputs": [],
   "source": [
    "# Store number of flips\n",
    "flips = 1000\n",
    "\n",
    "# Instantiate and Play Fair Game \n",
    "fair_game = montecarlo.game([fair_coin, fair_coin])\n",
    "fair_game.play(flips);"
   ]
  },
  {
   "cell_type": "markdown",
   "metadata": {},
   "source": [
    "Task 3. Play another game (using a new Game object) of $1000$ flips, this time using two unfair dice and one fair die. For the second unfair die, you can use the same die object twice in the list of dice you pass to the Game object.\n",
    "\n",
    "- New game object created (1).\n",
    "- Play method called correclty and without error (1)."
   ]
  },
  {
   "cell_type": "code",
   "execution_count": 5,
   "metadata": {},
   "outputs": [],
   "source": [
    "# Instantiate and Play Game with 2 Unfair Die\n",
    "unfair_game = montecarlo.game([unfair_coin, unfair_coin, fair_coin])\n",
    "unfair_game.play(flips);"
   ]
  },
  {
   "cell_type": "markdown",
   "metadata": {},
   "source": [
    "Task 4. For each game, use an Analyzer object to determine the raw frequency of jackpots — i.e. getting either all $H$s or all $T$s.\n",
    "\n",
    "- Analyzer objecs instantiated for both games (1).\n",
    "- Raw frequencies reported for both (1)."
   ]
  },
  {
   "cell_type": "code",
   "execution_count": 6,
   "metadata": {},
   "outputs": [
    {
     "name": "stdout",
     "output_type": "stream",
     "text": [
      "510\n",
      "380\n"
     ]
    }
   ],
   "source": [
    "# Instantiate Analyzer Classes\n",
    "fair_game_analyzer = montecarlo.analyzer(fair_game)\n",
    "unfair_game_analyzer = montecarlo.analyzer(unfair_game)\n",
    "\n",
    "#Show Fair Game Jackpots\n",
    "print(fair_game_analyzer.jackpot())\n",
    "#Show Unfair Game Jackpots\n",
    "print(unfair_game_analyzer.jackpot())"
   ]
  },
  {
   "cell_type": "markdown",
   "metadata": {},
   "source": [
    "Task 5. For each analyzer, compute relative frequency as the number of jackpots over the total number of rolls.\n",
    "\n",
    "- Both relative frequencies computed (1)."
   ]
  },
  {
   "cell_type": "code",
   "execution_count": 7,
   "metadata": {},
   "outputs": [
    {
     "name": "stdout",
     "output_type": "stream",
     "text": [
      "51.0% of the fair game results as jackpots\n",
      "38.0% of the unfair game results as jackpots\n"
     ]
    }
   ],
   "source": [
    "# Get Percentage of Flips that Resulted in Jackpots\n",
    "fair_game_frequency = fair_game_analyzer.jackpot() / flips\n",
    "unfair_game_frequency = unfair_game_analyzer.jackpot() / flips\n",
    "# Output Results\n",
    "print(f\"{fair_game_frequency:.1%} of the fair game results as jackpots\")\n",
    "print(f\"{unfair_game_frequency:.1%} of the unfair game results as jackpots\")"
   ]
  },
  {
   "cell_type": "markdown",
   "metadata": {},
   "source": [
    "Task 6. Show your results, comparing the two relative frequencies, in a simple bar chart.\n",
    "\n",
    "- Bar chart plotted and correct (1)."
   ]
  },
  {
   "cell_type": "code",
   "execution_count": 8,
   "metadata": {},
   "outputs": [
    {
     "data": {
      "image/png": "[encoded data removed]",
      "text/plain": [
       "<Figure size 432x288 with 1 Axes>"
      ]
     },
     "metadata": {
      "needs_background": "light"
     },
     "output_type": "display_data"
    }
   ],
   "source": [
    "pd.DataFrame({'2 die fair frequency': [fair_game_frequency], '3 die unfair frequency': [unfair_game_frequency]}).plot(kind='bar', title='Jackpot Results', xlabel= 'Results', ylabel='Percentage of Jackpots');"
   ]
  },
  {
   "cell_type": "markdown",
   "metadata": {},
   "source": [
    "## Scenario 2: A 6-sided Die (9)\n",
    "\n",
    "Task 1. Create three dice, each with six sides having the faces 1 through 6.\n",
    "\n",
    "- Three die objects created (1)."
   ]
  },
  {
   "cell_type": "code",
   "execution_count": 9,
   "metadata": {},
   "outputs": [],
   "source": [
    "# Instantiate Three Die\n",
    "die_one = montecarlo.die(np.array([i for i in range(1,7)]))\n",
    "die_two = montecarlo.die(np.array([i for i in range(1,7)]))\n",
    "die_three = montecarlo.die(np.array([i for i in range(1,7)]))"
   ]
  },
  {
   "cell_type": "markdown",
   "metadata": {},
   "source": [
    "Task 2. Convert one of the dice to an unfair one by weighting the face $6$ five times more than the other weights (i.e. it has weight of 5 and the others a weight of 1 each).\n",
    "\n",
    "- Unfair die created with proper call to weight change method (1)."
   ]
  },
  {
   "cell_type": "code",
   "execution_count": 10,
   "metadata": {},
   "outputs": [],
   "source": [
    "# Die one is unfair die\n",
    "die_one.change_side_weight(face=6, weight=5);"
   ]
  },
  {
   "cell_type": "markdown",
   "metadata": {},
   "source": [
    "Task 3. Convert another of the dice to be unfair by weighting the face $1$ five times more than the others.\n",
    "\n",
    "- Unfair die created with proper call to weight change method (1)."
   ]
  },
  {
   "cell_type": "code",
   "execution_count": 11,
   "metadata": {},
   "outputs": [],
   "source": [
    "# Die two is also unfair\n",
    "die_two.change_side_weight(face=1, weight=5);"
   ]
  },
  {
   "cell_type": "markdown",
   "metadata": {},
   "source": [
    "Task 4. Play a game of $10000$ rolls with $5$ fair dice.\n",
    "\n",
    "- Game class properly instantiated (1). \n",
    "- Play method called properly (1)."
   ]
  },
  {
   "cell_type": "code",
   "execution_count": 12,
   "metadata": {},
   "outputs": [],
   "source": [
    "# Instantiate Game with Fair Die\n",
    "five_die_game = montecarlo.game([die_three for _ in range(5)])\n",
    "five_die_game.play(10000);"
   ]
  },
  {
   "cell_type": "markdown",
   "metadata": {},
   "source": [
    "Task 5. Play another game of $10000$ rolls, this time with $2$ unfair dice, one as defined in steps #2 and #3 respectively, and $3$ fair dice.\n",
    "\n",
    "- Game class properly instantiated (1). \n",
    "- Play method called properly (1)."
   ]
  },
  {
   "cell_type": "code",
   "execution_count": 13,
   "metadata": {},
   "outputs": [],
   "source": [
    "# Instantiate Game with the 2 Unfair Dice and 3 Fair Dice\n",
    "five_die_unfair_game = montecarlo.game([die_one, die_two, *[die_three for _ in range(3)]])\n",
    "five_die_unfair_game.play(10000);"
   ]
  },
  {
   "cell_type": "markdown",
   "metadata": {},
   "source": [
    "Task 6. For each game, use an Analyzer object to determine the relative frequency of jackpots and show your results, comparing the two relative frequencies, in a simple bar chart.\n",
    "\n",
    "- Jackpot methods called (1).\n",
    "- Graph produced (1)."
   ]
  },
  {
   "cell_type": "code",
   "execution_count": 14,
   "metadata": {},
   "outputs": [
    {
     "name": "stdout",
     "output_type": "stream",
     "text": [
      "5 Die Fair Game Jackpots: 10\n",
      "5 Die Unfair Game Jackpots: 4\n"
     ]
    },
    {
     "data": {
      "image/png": "[encoded data removed]",
      "text/plain": [
       "<Figure size 432x288 with 1 Axes>"
      ]
     },
     "metadata": {
      "needs_background": "light"
     },
     "output_type": "display_data"
    }
   ],
   "source": [
    "# Initialize 5 Die Fair Analyzer\n",
    "five_die_fair_analyzer = montecarlo.analyzer(game=five_die_game)\n",
    "# Initialize 5 Die Unfair Analyzer\n",
    "five_die_unfair_analyzer = montecarlo.analyzer(game=five_die_unfair_game)\n",
    "\n",
    "#Show Fair Game Jackpots\n",
    "print('5 Die Fair Game Jackpots:', five_die_fair_analyzer.jackpot())\n",
    "#Show Unfair Game Jackpots\n",
    "print('5 Die Unfair Game Jackpots:', five_die_unfair_analyzer.jackpot())\n",
    "\n",
    "# Created Bar Chart Graphic \n",
    "pd.DataFrame({'5 die fair frequency': [five_die_fair_analyzer.jackpot() / 10000], '5 die unfair frequency': [five_die_unfair_analyzer.jackpot() / 10000]}).plot(kind='bar', title='Jackpot Results', xlabel= 'Results', ylabel='Percentage of Jackpots');"
   ]
  },
  {
   "cell_type": "markdown",
   "metadata": {},
   "source": [
    "## Scenario 3: Letters of the Alphabet (7)\n",
    "\n",
    "Task 1. Create a \"die\" of letters from $A$ to $Z$ with weights based on their frequency of usage as found in the data file `english_letters.txt`. Use the frequencies (i.e. raw counts) as weights.\n",
    "\n",
    "- Die correctly instantiated with source file data (1).\n",
    "- Weights properly applied using weight setting method (1)."
   ]
  },
  {
   "cell_type": "code",
   "execution_count": 15,
   "metadata": {},
   "outputs": [],
   "source": [
    "# Read in English Letters Data Frame and Manipulate\n",
    "english_letters = pd.read_csv(open('data/english_letters.txt', 'r'), sep=' ', header=None\n",
    "                             ).sort_values(by=0).reset_index(drop=True).rename(columns={0:'Letter', 1:'Frequency'})\n",
    "\n",
    "# Create a Die with each letter of the alphabet\n",
    "english_die = montecarlo.die(np.array([letter for letter in english_letters['Letter']]))\n",
    "\n",
    "# Change Weights to Corresponding weight in english_letters DataFrame\n",
    "for row in english_letters.index:\n",
    "    english_die.change_side_weight(face=english_letters.iloc[row]['Letter'], weight=english_letters.iloc[row]['Frequency'])"
   ]
  },
  {
   "cell_type": "markdown",
   "metadata": {},
   "source": [
    "Task 2. Play a game involving $4$ of these dice with $1000$ rolls.\n",
    "\n",
    "- Game play method properly called (1)."
   ]
  },
  {
   "cell_type": "code",
   "execution_count": 16,
   "metadata": {},
   "outputs": [],
   "source": [
    "# Instantiate 4 die with english letters and roll 1000 times\n",
    "english_game = montecarlo.game([english_die for _ in range(4)])\n",
    "english_game.play(1000);"
   ]
  },
  {
   "cell_type": "markdown",
   "metadata": {},
   "source": [
    "Task 3. Determine how many permutations in your results are actual English words, based on the vocabulary found in `scrabble_words.txt`.\n",
    "\n",
    "- Use permutation method (1).\n",
    "- Get count as difference between permutations and vocabulary (1)."
   ]
  },
  {
   "cell_type": "code",
   "execution_count": 17,
   "metadata": {},
   "outputs": [
    {
     "name": "stdout",
     "output_type": "stream",
     "text": [
      "Number of words found: 50\n"
     ]
    }
   ],
   "source": [
    "# Read in Scrabble Words\n",
    "scrabble_words = open('data/scrabble_words.txt', 'r').read().split('\\n')\n",
    "\n",
    "# Create Analyzer Class\n",
    "english_analyzer = montecarlo.analyzer(english_game)\n",
    "\n",
    "# Save Words from Multi-Index Resulting from permutation method into List for Comparing against Scrabble Words\n",
    "permutation_words = [''.join(i).upper() for i in english_analyzer.permutation_counts().index.tolist()]\n",
    "\n",
    "# Find number of permutation words in Scrabble Words\n",
    "print('Number of words found:', sum([1 for word in permutation_words if word in scrabble_words]))"
   ]
  },
  {
   "cell_type": "markdown",
   "metadata": {},
   "source": [
    "Task 4. Repeat steps #2 and #3, this time with $5$ dice. How many actual words does this produce? Which produces more?\n",
    "\n",
    "- Successfully repeats steps (1).\n",
    "- Identifies parameter with most found words (1)."
   ]
  },
  {
   "cell_type": "code",
   "execution_count": 22,
   "metadata": {},
   "outputs": [
    {
     "name": "stdout",
     "output_type": "stream",
     "text": [
      "Number of words found: 10\n"
     ]
    }
   ],
   "source": [
    "# Instantiate 5 die with english letters and roll 1000 times\n",
    "english_game_five_die = montecarlo.game([english_die for _ in range(5)])\n",
    "english_game_five_die.play(1000)\n",
    "\n",
    "# Create Analyzer Class\n",
    "english_analyzer_five_die = montecarlo.analyzer(english_game_five_die)\n",
    "\n",
    "# Save Words from Multi-Index Resulting from permutation method into List for Comparing against Scrabble Words\n",
    "permutation_words_five_die = [''.join(i).upper() for i in english_analyzer_five_die.permutation_counts().index.tolist()]\n",
    "\n",
    "# Find number of permutation words in Scrabble Words\n",
    "print('Number of words found:', sum([1 for word in permutation_words_five_die if word in scrabble_words]))"
   ]
  },
  {
   "cell_type": "markdown",
   "metadata": {},
   "source": [
    "Analysis of Word Generation\n",
    "\n",
    "The four die game generates more words that are eligible for scrabble than the the 5 die game. As you add the extra die (or new letter), the permutations become exponentially less likely to generate a legitimate word. Therefore, less die are ideal for producing more words. "
   ]
  },
  {
   "cell_type": "markdown",
   "metadata": {},
   "source": [
    "# Submission"
   ]
  },
  {
   "cell_type": "markdown",
   "metadata": {},
   "source": [
    "When finished completing the above tasks, save this file to your local repo (and within your project), and them push it to your GitHub repo.\n",
    "\n",
    "Then convert this file to a PDF and submit it to GradeScope according to the assignment instructions in Canvas."
   ]
  }
 ],
 "metadata": {
  "kernelspec": {
   "display_name": "Python 3",
   "language": "python",
   "name": "python3"
  },
  "language_info": {
   "codemirror_mode": {
    "name": "ipython",
    "version": 3
   },
   "file_extension": ".py",
   "mimetype": "text/x-python",
   "name": "python",
   "nbconvert_exporter": "python",
   "pygments_lexer": "ipython3",
   "version": "3.8.8"
  },
  "toc-autonumbering": true,
  "widgets": {
   "application/vnd.jupyter.widget-state+json": {
    "state": {},
    "version_major": 2,
    "version_minor": 0
   }
  }
 },
 "nbformat": 4,
 "nbformat_minor": 5
}
